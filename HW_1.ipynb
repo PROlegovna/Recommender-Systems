{
 "cells": [
  {
   "cell_type": "code",
   "execution_count": 12,
   "id": "3e325574",
   "metadata": {},
   "outputs": [],
   "source": [
    "import numpy as np\n",
    "import pandas as pd\n",
    "import math"
   ]
  },
  {
   "cell_type": "code",
   "execution_count": 13,
   "id": "68dd2212",
   "metadata": {},
   "outputs": [],
   "source": [
    "recommended_list = [143, 156, 1134, 991, 27, 1543, 3345, 533, 11, 43] #id товаров\n",
    "bought_list = [521, 32, 143, 991]"
   ]
  },
  {
   "cell_type": "markdown",
   "id": "e36216bd",
   "metadata": {},
   "source": [
    "**Задание 1. Реализовать метрики Recall@k и Money Recall@k**\n",
    "\n",
    "*Recall - доля рекомендованных товаров среди релевантных = Какой % купленных товаров был среди рекомендованных*\n",
    "\n",
    "*Recall@K(i)=∑Kj=11rij|Reli|*\n",
    "\n",
    "*|Reli|  -- количество релевантных товаров для пользователя  i*\n",
    "\n",
    "*MoneyRecall@K(i)=∑Kj=11rij⋅Price(j)∑s∈ReliPrice(s)*"
   ]
  },
  {
   "cell_type": "code",
   "execution_count": 16,
   "id": "67b95370",
   "metadata": {},
   "outputs": [],
   "source": [
    "def recall_at_k(recommended_list, bought_list, k=5):\n",
    "    \n",
    "    bought_list = np.array(bought_list)\n",
    "    recommended_list = np.array(recommended_list)\n",
    "    \n",
    "    flags = np.isin(bought_list, recommended_list)\n",
    "    \n",
    "    recall = flags.sum() / len(bought_list)\n",
    "    \n",
    "    return recall\n",
    "\n",
    "\n",
    "def money_recall_at_k(recommended_list, bought_list, prices_recommended, prices_bought, k=5):\n",
    "    bought_list = np.array(bought_list)\n",
    "    recommended_list = np.array(recommended_list)\n",
    "    prices_recommended = np.array(prices_recommended)\n",
    "    prices_bought = np.array(prices_bought)\n",
    "    \n",
    "    flags = np.isin(recommended_list, bought_list)\n",
    "    \n",
    "    return np.dot(flags, prices_recommended).sum() / prices_bought.sum()"
   ]
  },
  {
   "cell_type": "code",
   "execution_count": 17,
   "id": "068ecbb9",
   "metadata": {},
   "outputs": [
    {
     "data": {
      "text/plain": [
       "0.5"
      ]
     },
     "execution_count": 17,
     "metadata": {},
     "output_type": "execute_result"
    }
   ],
   "source": [
    "recall_at_k(recommended_list, bought_list, 5)"
   ]
  },
  {
   "cell_type": "markdown",
   "id": "8a4eaff8",
   "metadata": {},
   "source": [
    "**Задание 2. Реализовать метрику MRR@k**\n",
    "\n",
    "*Mean Reciprocal Rank*\n",
    "\n",
    "*Считаем для первых k рекоммендаций*\n",
    "*Найти ранк первого релевантного предсказания  rankj*\n",
    "*Посчитать reciprocal rank =  1rankj*\n",
    "*MMR(i)@k=1minj∈Rel(i)rankj*"
   ]
  },
  {
   "cell_type": "code",
   "execution_count": 45,
   "id": "93d899df",
   "metadata": {},
   "outputs": [],
   "source": [
    "def reciprocal_rank(recommended_list, bought_list, k=5):\n",
    "    ranks = 0.\n",
    "    \n",
    "    bought_list = np.array(bought_list)\n",
    "    recommended_list = np.array(recommended_list)\n",
    "    \n",
    "    \n",
    "    for item_rec in recommended_list:\n",
    "        for i, item_bought in enumerate(bought_list):\n",
    "            if item_rec == item_bought:\n",
    "                ranks += 1 / (i+1)\n",
    "    \n",
    "    return ranks / len(recommended_list)"
   ]
  },
  {
   "cell_type": "code",
   "execution_count": 46,
   "id": "4a098aa8",
   "metadata": {},
   "outputs": [
    {
     "data": {
      "text/plain": [
       "0.05833333333333333"
      ]
     },
     "execution_count": 46,
     "metadata": {},
     "output_type": "execute_result"
    }
   ],
   "source": [
    "reciprocal_rank(recommended_list, bought_list, 5)"
   ]
  },
  {
   "cell_type": "markdown",
   "id": "b881b526",
   "metadata": {},
   "source": [
    "**Задание 3. Реализовать метрику nDCG@k**\n",
    "*Normalized discounted cumulative gain. Эту метрику реализовать будет немного сложнее.*\n",
    "\n",
    "DCG@K(i)=∑j=1K1rijlog2(j+1) \n",
    "\n",
    "1rij  -- индикаторная функция показывает что пользователь  i  провзаимодействовал с продуктом  j\n",
    "\n",
    "*Для подсчета  nDCG  нам необходимо найти максимально возможный  DCG  для пользователя  i  и рекомендаций длины  K . Максимальный  DCG  достигается когда мы порекомендовали максимально возможное количество релевантных продуктов и все они в начале списка рекомендаций.*\n",
    "\n",
    "*IDCG@K(i)=max(DCG@K(i))=∑j=1K1j≤|Reli|log2(j+1)*\n",
    "\n",
    "*nDCG@K(i)=DCG@K(i)IDCG@K(i)*\n",
    "\n",
    "*|Reli|  -- количество релевантных продуктов для пользователя  i*"
   ]
  },
  {
   "cell_type": "code",
   "execution_count": 30,
   "id": "2dba4d38",
   "metadata": {},
   "outputs": [],
   "source": [
    "def ndcg_at_k(recommended_list, bought_list, k=5):\n",
    "    bought_list = np.array(bought_list)\n",
    "    recommended_list = np.array(recommended_list)\n",
    "    \n",
    "    flags = np.isin(recommended_list, bought_list)\n",
    "    rank_list = []\n",
    "    for i in np.arange(len(recommended_list)):\n",
    "        if i < 2:\n",
    "            rank_list.append(i+1)\n",
    "        else:\n",
    "            rank_list.append(math.log2(i+1))\n",
    "    if len(recommended_list) == 0:\n",
    "        return 0\n",
    "    dcg = sum(np.divide(flags, rank_list)) / len(recommended_list)\n",
    "\n",
    "    i_dcg = sum(np.divide(1, rank_list)) / len(recommended_list)\n",
    "\n",
    "    return dcg/i_dcg"
   ]
  },
  {
   "cell_type": "code",
   "execution_count": 31,
   "id": "6abcd65f",
   "metadata": {},
   "outputs": [
    {
     "data": {
      "text/plain": [
       "0.31549095204264654"
      ]
     },
     "execution_count": 31,
     "metadata": {},
     "output_type": "execute_result"
    }
   ],
   "source": [
    "ndcg_at_k(recommended_list, bought_list, 5)"
   ]
  }
 ],
 "metadata": {
  "kernelspec": {
   "display_name": "Python 3",
   "language": "python",
   "name": "python3"
  },
  "language_info": {
   "codemirror_mode": {
    "name": "ipython",
    "version": 3
   },
   "file_extension": ".py",
   "mimetype": "text/x-python",
   "name": "python",
   "nbconvert_exporter": "python",
   "pygments_lexer": "ipython3",
   "version": "3.8.8"
  }
 },
 "nbformat": 4,
 "nbformat_minor": 5
}
